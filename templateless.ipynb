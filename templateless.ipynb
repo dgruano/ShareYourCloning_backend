{
 "cells": [
  {
   "cell_type": "code",
   "execution_count": 1,
   "metadata": {},
   "outputs": [
    {
     "data": {
      "text/plain": [
       "Dseq(-18)\n",
       "TTACGTAAAAAA\n",
       "      TTTTTTGCATGC"
      ]
     },
     "execution_count": 1,
     "metadata": {},
     "output_type": "execute_result"
    }
   ],
   "source": [
    "from pydna.dseq import Dseq\n",
    "from pydna.dseqrecord import Dseqrecord\n",
    "from pydna.assembly import Assembly\n",
    "\n",
    "\n",
    "forward_primer = \"TTACGTAAAAAA\"\n",
    "reverse_primer = \"CGTACGTTTTTT\"\n",
    "overlap_length = 6\n",
    "overhang = overlap_length - len(forward_primer)\n",
    "\n",
    "# Using Dseq, we can assemble the two oligos automatically\n",
    "templateless = Dseq(forward_primer, reverse_primer, ovhg=overhang)\n",
    "templateless\n",
    "\n"
   ]
  },
  {
   "cell_type": "code",
   "execution_count": 2,
   "metadata": {},
   "outputs": [
    {
     "data": {
      "text/plain": [
       "Dseq(-18)\n",
       "TTACGTAAAAAAcgtacg\n",
       "aatgcaTTTTTTGCATGC"
      ]
     },
     "execution_count": 2,
     "metadata": {},
     "output_type": "execute_result"
    }
   ],
   "source": [
    "templateless = templateless.fill_in()\n",
    "dseq = Dseqrecord(templateless,\n",
    "                  id=\"tpless\",\n",
    "                  name=\"Templateless PCR\",\n",
    "                  description=\"Templateless PCR\")\n",
    "\n",
    "\n",
    "# Using the original assembly structure\n",
    "fwd = Dseqrecord(Dseq(forward_primer))\n",
    "rvs = Dseqrecord(Dseq(reverse_primer))\n",
    "\n",
    "Assembly((fwd, rvs), limit=6)\n",
    "dseq.seq\n"
   ]
  },
  {
   "cell_type": "code",
   "execution_count": 3,
   "metadata": {},
   "outputs": [
    {
     "data": {
      "text/plain": [
       "Dseq(-12)\n",
       "CGTACGTTTTTT\n",
       "GCATGCAAAAAA"
      ]
     },
     "execution_count": 3,
     "metadata": {},
     "output_type": "execute_result"
    }
   ],
   "source": [
    "rvs.seq"
   ]
  },
  {
   "cell_type": "code",
   "execution_count": 4,
   "metadata": {},
   "outputs": [
    {
     "data": {
      "text/plain": [
       "Assembly\n",
       "fragments..: 12bp 12bp\n",
       "limit(bp)..: 6\n",
       "G.nodes....: 2\n",
       "algorithm..: common_sub_strings"
      ]
     },
     "execution_count": 4,
     "metadata": {},
     "output_type": "execute_result"
    }
   ],
   "source": [
    "a = Dseqrecord(Dseq(\"ATCGGG\"))\n",
    "b = Dseqrecord(Dseq(\"GGGTCA\"))\n",
    "\n",
    "Assembly((fwd,rvs), limit=6)"
   ]
  },
  {
   "cell_type": "code",
   "execution_count": 5,
   "metadata": {},
   "outputs": [
    {
     "name": "stdout",
     "output_type": "stream",
     "text": [
      "((1, -2, '[6:12]', '[0:6]'),)\n",
      "((-1, 2, '[0:6]', '[6:12]'),)\n",
      "\n",
      "((1, -2, '[6:12]', '[0:6]'),)\n"
     ]
    }
   ],
   "source": [
    "# Using assembly2 functions\n",
    "\n",
    "from assembly2 import Assembly as Assembly2\n",
    "from assembly2 import TemplatelessPCRAssembly\n",
    "from assembly2 import assembly2str_tuple\n",
    "\n",
    "f = Assembly2((fwd, rvs), limit=6)\n",
    "\n",
    "for ass in f.get_linear_assemblies():\n",
    "    print(assembly2str_tuple(ass))\n",
    "\n",
    "print()\n",
    "\n",
    "g = TemplatelessPCRAssembly((fwd, rvs), limit=6)\n",
    "\n",
    "for ass in g.get_linear_assemblies():\n",
    "    print(assembly2str_tuple(ass))\n",
    "\n"
   ]
  },
  {
   "cell_type": "code",
   "execution_count": 9,
   "metadata": {},
   "outputs": [
    {
     "name": "stdout",
     "output_type": "stream",
     "text": [
      "Dseqrecord\n",
      "circular: False\n",
      "size: 8\n",
      "ID: None\n",
      "Name: name\n",
      "Description: description\n",
      "Number of features: 0\n",
      "/molecule_type=DNA\n",
      "/topology=linear\n",
      "/data_file_division=UNK\n",
      "/date=01-JAN-1980\n",
      "/accessions=['id']\n",
      "/keywords=['']\n",
      "/source=\n",
      "/organism=.\n",
      "/taxonomy=[]\n",
      "Dseq(-8)\n",
      "ACGTACGT\n",
      "TGCATGCA\n"
     ]
    }
   ],
   "source": [
    "#!/usr/bin/env python\n",
    "# -*- coding: utf-8 -*-\n",
    "\n",
    "from dna_functions import format_sequence_genbank, read_dsrecord_from_json\n",
    "from main import app\n",
    "from fastapi.testclient import TestClient\n",
    "from pydna.parsers import parse as pydna_parse\n",
    "from Bio.Restriction.Restriction import CommOnly\n",
    "from pydantic_models import (\n",
    "    PCRSource,\n",
    "    TemplatelessPCRSource,\n",
    "    PrimerModel,\n",
    "    SequenceEntity,\n",
    "\n",
    ")\n",
    "from pydna.dseqrecord import Dseqrecord\n",
    "from pydna.dseq import Dseq\n",
    "\n",
    "client = TestClient(app)\n",
    "\n",
    "def test_templateless():\n",
    "    submitted_source = TemplatelessPCRSource(\n",
    "        input=[],\n",
    "        forward_primer=1,\n",
    "        reverse_primer=2,\n",
    "    )\n",
    "\n",
    "    # Test case of initial example\n",
    "\n",
    "    primer_fwd = PrimerModel(sequence=\"TTACGTAAAAAA\", id=1, name=\"fwd\")\n",
    "    primer_rvs = PrimerModel(sequence=\"CGTACGTTTTTT\", id=2, name=\"rvs\")\n",
    "\n",
    "    data = {\n",
    "        'source': submitted_source.model_dump(),\n",
    "        'sequences': [],\n",
    "        'primers': [primer_fwd.model_dump(), primer_rvs.model_dump()],\n",
    "    }\n",
    "\n",
    "    response = client.post('/templateless_pcr', json=data, params={'minimal_annealing': 6})\n",
    "    payload = response.json()\n",
    "\n",
    "    sources = [TemplatelessPCRSource.model_validate(s) for s in payload['sources']]\n",
    "    sequences = [read_dsrecord_from_json(SequenceEntity.model_validate(s)) for s in payload['sequences']]\n",
    "\n",
    "    assert len(sources) == 1\n",
    "    assert len(sequences) == 1\n",
    "\n",
    "    seq1 = sequences[0]\n",
    "    assert str(seq1.seq) == \"TTACGTAAAAAACGTACG\"\n",
    "\n",
    "    # Test case of fully overlapping primers (it is not particularly special)\n",
    "\n",
    "    primer_fwd = PrimerModel(sequence=\"ACGTACGT\", id=1, name=\"fwd\")\n",
    "    primer_rvs = PrimerModel(sequence=\"ACGTACGT\", id=2, name=\"rvs\")\n",
    "\n",
    "    data = {\n",
    "        'source': submitted_source.model_dump(),\n",
    "        'sequences': [],\n",
    "        'primers': [primer_fwd.model_dump(), primer_rvs.model_dump()],\n",
    "    }\n",
    "\n",
    "    response = client.post('/templateless_pcr', json=data, params={'minimal_annealing': 8})\n",
    "    payload = response.json()\n",
    "\n",
    "    sources = [TemplatelessPCRSource.model_validate(s) for s in payload['sources']]\n",
    "    sequences = [read_dsrecord_from_json(SequenceEntity.model_validate(s)) for s in payload['sequences']]\n",
    "\n",
    "    assert len(sources) == 1\n",
    "    assert len(sequences) == 1\n",
    "\n",
    "    seq1 = sequences[0]\n",
    "    assert str(seq1.seq) == \"ACGTACGT\"\n",
    "\n",
    "    # Test several sources\n",
    "    response = client.post('/templateless_pcr', json=data, params={'minimal_annealing': 4})\n",
    "    payload = response.json()\n",
    "\n",
    "    sources = [TemplatelessPCRSource.model_validate(s) for s in payload['sources']]\n",
    "    sequences = [read_dsrecord_from_json(SequenceEntity.model_validate(s)) for s in payload['sequences']]\n",
    "\n",
    "    assert len(sources) == 2\n",
    "    assert len(sequences) == 2\n",
    "\n",
    "    seq1 = sequences[0]\n",
    "    seq2 = sequences[1]\n",
    "\n",
    "    assert str(seq1.seq) == \"ACGTACGT\"\n",
    "    assert str(seq2.seq) == \"ACGTACGTACGT\"\n",
    "\n",
    "    # Test overhanging primers (should result in a fragment with overhang, as this would happen in a real PCR)\n",
    "    primer_fwd = PrimerModel(sequence=\"ACGTACGT\", id=1, name=\"fwd\")\n",
    "    primer_rvs = PrimerModel(sequence=\"ACGTACGTTTT\", id=2, name=\"rvs\")\n",
    "\n",
    "    data = {\n",
    "        'source': submitted_source.model_dump(),\n",
    "        'sequences': [],\n",
    "        'primers': [primer_fwd.model_dump(), primer_rvs.model_dump()],\n",
    "    }\n",
    "\n",
    "    response = client.post('/templateless_pcr', json=data, params={'minimal_annealing': 8})\n",
    "    payload = response.json()\n",
    "\n",
    "    sources = [TemplatelessPCRSource.model_validate(s) for s in payload['sources']]\n",
    "    sequences = [read_dsrecord_from_json(SequenceEntity.model_validate(s)) for s in payload['sequences']]\n",
    "\n",
    "    assert len(sources) == 1\n",
    "    assert len(sequences) == 1\n",
    "\n",
    "    seq1 = sequences[0]\n",
    "    print(seq1)\n",
    "\n",
    "\n",
    "test_templateless()"
   ]
  },
  {
   "cell_type": "code",
   "execution_count": 12,
   "metadata": {},
   "outputs": [
    {
     "name": "stdout",
     "output_type": "stream",
     "text": [
      "Dseqrecord\n",
      "circular: False\n",
      "size: 11\n",
      "ID: tpless\n",
      "Name: Templateless PCR\n",
      "Description: Templateless PCR\n",
      "Number of features: 0\n",
      "/molecule_type=DNA\n",
      "Dseq(-11)\n",
      "   ACGTACGT\n",
      "TTTTGCATGCA\n"
     ]
    }
   ],
   "source": [
    "ds = Dseq(\"ACGTACGT\", \"ACGTACGTTTT\")\n",
    "ds = Dseqrecord(ds, id=\"tpless\", name=\"Templateless PCR\", description=\"Templateless PCR\")\n",
    "print(ds)"
   ]
  },
  {
   "cell_type": "code",
   "execution_count": 17,
   "metadata": {},
   "outputs": [
    {
     "name": "stdout",
     "output_type": "stream",
     "text": [
      "Dseqrecord\n",
      "circular: False\n",
      "size: 11\n",
      "ID: id\n",
      "Name: name\n",
      "Description: description\n",
      "Number of features: 0\n",
      "/molecule_type=DNA\n",
      "Dseq(-11)\n",
      "ACGTACGTTTT\n",
      "TGCATGCAAAA\n",
      "Dseqrecord\n",
      "circular: False\n",
      "size: 8\n",
      "ID: id\n",
      "Name: name\n",
      "Description: description\n",
      "Number of features: 0\n",
      "/molecule_type=DNA\n",
      "Dseq(-8)\n",
      "ACGTACGT\n",
      "TGCATGCA\n"
     ]
    }
   ],
   "source": [
    "from pydna.dseq import Dseq\n",
    "from pydna.dseqrecord import Dseqrecord\n",
    "from pydna.assembly import Assembly\n",
    "\n",
    "ass = Assembly((Dseqrecord(Dseq(\"ACGTACGT\")), Dseqrecord(Dseq(\"ACGTACGTTTT\"))), limit=8)\n",
    "\n",
    "for a in ass.assemble_linear():\n",
    "    print(a)"
   ]
  },
  {
   "cell_type": "code",
   "execution_count": 22,
   "metadata": {},
   "outputs": [
    {
     "name": "stdout",
     "output_type": "stream",
     "text": [
      "Dseqrecord\n",
      "circular: False\n",
      "size: 11\n",
      "ID: id\n",
      "Name: name\n",
      "Description: description\n",
      "Number of features: 0\n",
      "/molecule_type=DNA\n",
      "Dseq(-11)\n",
      "ACGTACGTTTT\n",
      "TGCATGCAAAA\n",
      "Dseqrecord\n",
      "circular: False\n",
      "size: 8\n",
      "ID: id\n",
      "Name: name\n",
      "Description: description\n",
      "Number of features: 0\n",
      "/molecule_type=DNA\n",
      "Dseq(-8)\n",
      "ACGTACGT\n",
      "TGCATGCA\n"
     ]
    }
   ],
   "source": [
    "Assembly((Dseqrecord(\"GCGTGACTCCgttttagagctagaaatagcaagttaaaataa\"), Dseqrecord(\"TTTTGCAAAGAttcttcggtacaggttatgttttttggcaaca\")))\n",
    "\n",
    "for a in ass.assemble_linear():\n",
    "    print(a)"
   ]
  }
 ],
 "metadata": {
  "kernelspec": {
   "display_name": ".venv",
   "language": "python",
   "name": "python3"
  },
  "language_info": {
   "codemirror_mode": {
    "name": "ipython",
    "version": 3
   },
   "file_extension": ".py",
   "mimetype": "text/x-python",
   "name": "python",
   "nbconvert_exporter": "python",
   "pygments_lexer": "ipython3",
   "version": "3.10.6"
  }
 },
 "nbformat": 4,
 "nbformat_minor": 2
}
