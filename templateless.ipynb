{
 "cells": [
  {
   "cell_type": "code",
   "execution_count": 1,
   "metadata": {},
   "outputs": [
    {
     "data": {
      "text/plain": [
       "Dseq(-18)\n",
       "TTACGTAAAAAA\n",
       "      TTTTTTGCATGC"
      ]
     },
     "execution_count": 1,
     "metadata": {},
     "output_type": "execute_result"
    }
   ],
   "source": [
    "from pydna.dseq import Dseq\n",
    "from pydna.dseqrecord import Dseqrecord\n",
    "from pydna.assembly import Assembly\n",
    "\n",
    "\n",
    "forward_primer = \"TTACGTAAAAAA\"\n",
    "reverse_primer = \"CGTACGTTTTTT\"\n",
    "overlap_length = 6\n",
    "overhang = overlap_length - len(forward_primer)\n",
    "\n",
    "# Using Dseq, we can assemble the two oligos automatically\n",
    "templateless = Dseq(forward_primer, reverse_primer, ovhg=overhang)\n",
    "templateless\n",
    "\n"
   ]
  },
  {
   "cell_type": "code",
   "execution_count": 2,
   "metadata": {},
   "outputs": [
    {
     "data": {
      "text/plain": [
       "Dseq(-18)\n",
       "TTACGTAAAAAAcgtacg\n",
       "aatgcaTTTTTTGCATGC"
      ]
     },
     "execution_count": 2,
     "metadata": {},
     "output_type": "execute_result"
    }
   ],
   "source": [
    "templateless = templateless.fill_in()\n",
    "dseq = Dseqrecord(templateless,\n",
    "                  id=\"tpless\",\n",
    "                  name=\"Templateless PCR\",\n",
    "                  description=\"Templateless PCR\")\n",
    "\n",
    "\n",
    "# Using the original assembly structure\n",
    "fwd = Dseqrecord(Dseq(forward_primer))\n",
    "rvs = Dseqrecord(Dseq(reverse_primer))\n",
    "\n",
    "Assembly((fwd, rvs), limit=6)\n",
    "dseq.seq\n"
   ]
  },
  {
   "cell_type": "code",
   "execution_count": 3,
   "metadata": {},
   "outputs": [
    {
     "data": {
      "text/plain": [
       "Dseq(-12)\n",
       "CGTACGTTTTTT\n",
       "GCATGCAAAAAA"
      ]
     },
     "execution_count": 3,
     "metadata": {},
     "output_type": "execute_result"
    }
   ],
   "source": [
    "rvs.seq"
   ]
  },
  {
   "cell_type": "code",
   "execution_count": 4,
   "metadata": {},
   "outputs": [
    {
     "data": {
      "text/plain": [
       "Assembly\n",
       "fragments..: 12bp 12bp\n",
       "limit(bp)..: 6\n",
       "G.nodes....: 2\n",
       "algorithm..: common_sub_strings"
      ]
     },
     "execution_count": 4,
     "metadata": {},
     "output_type": "execute_result"
    }
   ],
   "source": [
    "a = Dseqrecord(Dseq(\"ATCGGG\"))\n",
    "b = Dseqrecord(Dseq(\"GGGTCA\"))\n",
    "\n",
    "Assembly((fwd,rvs), limit=6)"
   ]
  },
  {
   "cell_type": "code",
   "execution_count": 5,
   "metadata": {},
   "outputs": [
    {
     "name": "stdout",
     "output_type": "stream",
     "text": [
      "((1, -2, '[6:12]', '[0:6]'),)\n",
      "((-1, 2, '[0:6]', '[6:12]'),)\n",
      "\n",
      "((1, -2, '[6:12]', '[0:6]'),)\n"
     ]
    }
   ],
   "source": [
    "# Using assembly2 functions\n",
    "\n",
    "from assembly2 import Assembly as Assembly2\n",
    "from assembly2 import TemplatelessPCRAssembly\n",
    "from assembly2 import assembly2str_tuple\n",
    "\n",
    "f = Assembly2((fwd, rvs), limit=6)\n",
    "\n",
    "for ass in f.get_linear_assemblies():\n",
    "    print(assembly2str_tuple(ass))\n",
    "\n",
    "print()\n",
    "\n",
    "g = TemplatelessPCRAssembly((fwd, rvs), limit=6)\n",
    "\n",
    "for ass in g.get_linear_assemblies():\n",
    "    print(assembly2str_tuple(ass))\n",
    "\n"
   ]
  }
 ],
 "metadata": {
  "kernelspec": {
   "display_name": ".venv",
   "language": "python",
   "name": "python3"
  },
  "language_info": {
   "codemirror_mode": {
    "name": "ipython",
    "version": 3
   },
   "file_extension": ".py",
   "mimetype": "text/x-python",
   "name": "python",
   "nbconvert_exporter": "python",
   "pygments_lexer": "ipython3",
   "version": "3.11.6"
  }
 },
 "nbformat": 4,
 "nbformat_minor": 2
}
